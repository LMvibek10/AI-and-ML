{
  "nbformat": 4,
  "nbformat_minor": 0,
  "metadata": {
    "colab": {
      "provenance": []
    },
    "kernelspec": {
      "name": "python3",
      "display_name": "Python 3"
    },
    "language_info": {
      "name": "python"
    }
  },
  "cells": [
    {
      "cell_type": "markdown",
      "source": [
        "# **Student Number : 2358119**\n",
        "\n",
        "# **Student Name : Vibek Rana Magar**\n",
        "\n",
        "# **Group : L6CG19**"
      ],
      "metadata": {
        "id": "m6rX1xzyavf3"
      }
    },
    {
      "cell_type": "markdown",
      "source": [
        "# **4) TO - DO - Task**"
      ],
      "metadata": {
        "id": "LisgalUbnF5C"
      }
    },
    {
      "cell_type": "markdown",
      "source": [
        "**4.1) Exercise on Functions:**"
      ],
      "metadata": {
        "id": "YlMkOE02nLif"
      }
    },
    {
      "cell_type": "markdown",
      "source": [
        "Task - 1:\n",
        "Create a Python program that converts between different units of measurement.\n",
        "\n",
        "• The program should:\n",
        "1. Prompt the user to choose the type of conversion (e.g., length, weight, volume).\n",
        "2. Ask the user to input the value to be converted.\n",
        "3. Perform the conversion and display the result.\n",
        "4. Handle potential errors, such as invalid input or unsupported conversion types.\n",
        "\n",
        "• Requirements:\n",
        "1. Functions: Define at least one function to perform the conversion.\n",
        "2. Error Handling: Use try-except blocks to handle invalid input (e.g., non-numeric values).\n",
        "3. User Input: Prompt the user to select the conversion type and input the value.\n",
        "4. Docstrings: Include a docstring in your function to describe its purpose, parameters, and\n",
        "return value.\n",
        "\n",
        "• Conversion Options:\n",
        "1. Length:\n",
        "– Convert meters (m) to feet (ft).\n",
        "– Convert feet (ft) to meters (m).\n",
        "2. Weight:\n",
        "– Convert kilograms (kg) to pounds (lbs).\n",
        "– Convert pounds (lbs) to kilograms (kg).\n",
        "3. Volume:\n",
        "– Convert liters (L) to gallons (gal).\n",
        "– Convert gallons (gal) to liters (L)."
      ],
      "metadata": {
        "id": "fuKmsc_NnRMj"
      }
    },
    {
      "cell_type": "code",
      "execution_count": null,
      "metadata": {
        "colab": {
          "base_uri": "https://localhost:8080/"
        },
        "id": "xChIC7Qbm0AO",
        "outputId": "879168f9-9a0a-43e3-b976-364bfc8cf2f3"
      },
      "outputs": [
        {
          "output_type": "stream",
          "name": "stdout",
          "text": [
            "Choose conversion type:\n",
            "1. Length (m <-> ft)\n",
            "2. Weight (kg <-> lbs)\n",
            "3. Volume (L <-> gal)\n",
            "Enter 1, 2, or 3: 1\n",
            "Enter value: 3\n",
            "Enter unit (m/ft): m\n",
            "3.0 meters = 9.84252 feet\n"
          ]
        }
      ],
      "source": [
        "def convert_units():\n",
        "    \"\"\"Converts between different units of measurement.\"\"\"\n",
        "    print(\"Choose conversion type:\")\n",
        "    print(\"1. Length (m <-> ft)\")\n",
        "    print(\"2. Weight (kg <-> lbs)\")\n",
        "    print(\"3. Volume (L <-> gal)\")\n",
        "\n",
        "    choice = input(\"Enter 1, 2, or 3: \")\n",
        "\n",
        "    try:\n",
        "        if choice == \"1\":\n",
        "            value = float(input(\"Enter value: \"))\n",
        "            unit = input(\"Enter unit (m/ft): \").lower()\n",
        "            if unit == \"m\":\n",
        "                print(f\"{value} meters = {value * 3.28084} feet\")\n",
        "            elif unit == \"ft\":\n",
        "                print(f\"{value} feet = {value / 3.28084} meters\")\n",
        "            else:\n",
        "                print(\"Invalid unit.\")\n",
        "        elif choice == \"2\":\n",
        "            value = float(input(\"Enter value: \"))\n",
        "            unit = input(\"Enter unit (kg/lbs): \").lower()\n",
        "            if unit == \"kg\":\n",
        "                print(f\"{value} kg = {value * 2.20462} lbs\")\n",
        "            elif unit == \"lbs\":\n",
        "                print(f\"{value} lbs = {value / 2.20462} kg\")\n",
        "            else:\n",
        "                print(\"Invalid unit.\")\n",
        "        elif choice == \"3\":\n",
        "            value = float(input(\"Enter value: \"))\n",
        "            unit = input(\"Enter unit (L/gal): \").lower()\n",
        "            if unit == \"l\":\n",
        "                print(f\"{value} liters = {value * 0.264172} gallons\")\n",
        "            elif unit == \"gal\":\n",
        "                print(f\"{value} gallons = {value / 0.264172} liters\")\n",
        "            else:\n",
        "                print(\"Invalid unit.\")\n",
        "        else:\n",
        "            print(\"Invalid choice.\")\n",
        "    except ValueError:\n",
        "        print(\"Invalid input. Please enter a number.\")\n",
        "\n",
        "convert_units()"
      ]
    },
    {
      "cell_type": "markdown",
      "source": [
        "Task - 2:\n",
        "Create a Python program that performs various mathematical operations on a list of numbers.\n",
        "\n",
        "• The Program should:\n",
        "1. Prompt the user to choose an operation (e.g., find the sum, average, maximum, or minimum\n",
        "of the numbers).\n",
        "2. Ask the user to input a list of numbers (separated by spaces).\n",
        "3. Perform the selected operation and display the result.\n",
        "4. Handle potential errors, such as invalid input or empty lists.\n",
        "\n",
        "• Requirements:\n",
        "1. Functions: Define at least one function for each operation (sum, average, maximum, mini-\n",
        "mum).\n",
        "2. Error Handling: Use try-except blocks to handle invalid input (e.g., non-numeric values or\n",
        "empty lists).\n",
        "3. User Input: Prompt the user to select the operation and input the list of numbers.\n",
        "4. Docstrings: Include a docstring in each function to describe its purpose, parameters, and\n",
        "return value."
      ],
      "metadata": {
        "id": "wpkI2gM0tBMx"
      }
    },
    {
      "cell_type": "code",
      "source": [
        "def perform_operation():\n",
        "    \"\"\"Performs various mathematical operations on a list of numbers.\"\"\"\n",
        "    print(\"Choose an operation:\")\n",
        "    print(\"1. Sum\")\n",
        "    print(\"2. Average\")\n",
        "    print(\"3. Maximum\")\n",
        "    print(\"4. Minimum\")\n",
        "\n",
        "    choice = input(\"Enter 1, 2, 3, or 4: \")\n",
        "\n",
        "    try:\n",
        "        numbers = list(map(float, input(\"Enter numbers separated by spaces: \").split()))\n",
        "        if not numbers:\n",
        "            print(\"List cannot be empty.\")\n",
        "            return\n",
        "\n",
        "        if choice == \"1\":\n",
        "            print(f\"Sum: {sum(numbers)}\")\n",
        "        elif choice == \"2\":\n",
        "            print(f\"Average: {sum(numbers) / len(numbers)}\")\n",
        "        elif choice == \"3\":\n",
        "            print(f\"Maximum: {max(numbers)}\")\n",
        "        elif choice == \"4\":\n",
        "            print(f\"Minimum: {min(numbers)}\")\n",
        "        else:\n",
        "            print(\"Invalid choice.\")\n",
        "    except ValueError:\n",
        "        print(\"Invalid input. Please enter numbers.\")\n",
        "\n",
        "perform_operation()"
      ],
      "metadata": {
        "colab": {
          "base_uri": "https://localhost:8080/"
        },
        "id": "1Gb_uoO8r7Jj",
        "outputId": "203cfc71-eee5-43e3-f234-fae30207e3a0"
      },
      "execution_count": null,
      "outputs": [
        {
          "output_type": "stream",
          "name": "stdout",
          "text": [
            "Choose an operation:\n",
            "1. Sum\n",
            "2. Average\n",
            "3. Maximum\n",
            "4. Minimum\n",
            "Enter 1, 2, 3, or 4: 2\n",
            "Enter numbers separated by spaces: 3 4 5 6\n",
            "Average: 4.5\n"
          ]
        }
      ]
    },
    {
      "cell_type": "markdown",
      "source": [
        "**4.2) Exercise on List Manipulation:**"
      ],
      "metadata": {
        "id": "qaHCGG4cs1Gp"
      }
    },
    {
      "cell_type": "markdown",
      "source": [
        "1. Extract Every Other Element:\n",
        "\n",
        "Write a Python function that extracts every other element from a list, starting from the first element.\n",
        "\n",
        "• Requirements:\n",
        "\n",
        "– Define a function extract every other(lst) that takes a list lst as input and returns a new list containing every other element from the original list.\n",
        "\n",
        "– Example: For the input [1, 2, 3, 4, 5, 6], the output should be [1, 3, 5]."
      ],
      "metadata": {
        "id": "-8zbf_WXtxwr"
      }
    },
    {
      "cell_type": "code",
      "source": [
        "def extract_every_other(lst):\n",
        "    \"\"\"Returns a new list containing every other element from the original list.\"\"\"\n",
        "    return lst[::2]\n",
        "\n",
        "print(extract_every_other([1, 2, 3, 4, 5, 6]))"
      ],
      "metadata": {
        "colab": {
          "base_uri": "https://localhost:8080/"
        },
        "id": "5RAms0UfsJT8",
        "outputId": "4a80ca54-ce82-4727-fcf9-d3445308ed23"
      },
      "execution_count": null,
      "outputs": [
        {
          "output_type": "stream",
          "name": "stdout",
          "text": [
            "[1, 3, 5]\n"
          ]
        }
      ]
    },
    {
      "cell_type": "markdown",
      "source": [
        "2. Slice a Sublist:\n",
        "\n",
        "Write a Python function that returns a sublist from a given list, starting from a specified index and ending at another specified index.\n",
        "\n",
        "• Requirements:\n",
        "\n",
        "– Define a function get sublist(lst, start, end) that takes a list lst, a starting index start, and an ending index end as input and returns the sublist from start to end (inclusive).\n",
        "\n",
        "– Example: For the input [1, 2, 3, 4, 5, 6] with start=2 and end=4, the output should be [3, 4, 5]."
      ],
      "metadata": {
        "id": "1JzWVw-it6xb"
      }
    },
    {
      "cell_type": "code",
      "source": [
        "def get_sublist(lst, start, end):\n",
        "    \"\"\"Returns a sublist from start index to end index (inclusive).\"\"\"\n",
        "    return lst[start:end+1]\n",
        "\n",
        "print(get_sublist([1, 2, 3, 4, 5, 6], 2, 4))"
      ],
      "metadata": {
        "colab": {
          "base_uri": "https://localhost:8080/"
        },
        "id": "R1c1cw0Cs8Ae",
        "outputId": "8e5b9ba2-8a21-4456-b420-e2cd2f0270c2"
      },
      "execution_count": null,
      "outputs": [
        {
          "output_type": "stream",
          "name": "stdout",
          "text": [
            "[3, 4, 5]\n"
          ]
        }
      ]
    },
    {
      "cell_type": "markdown",
      "source": [
        "3. Reverse a List Using Slicing:\n",
        "\n",
        "Write a Python function that reverses a list using slicing.\n",
        "\n",
        "• Requirements:\n",
        "\n",
        "– Define a function reverse list(lst) that takes a list lst and returns a reversed list using slicing.\n",
        "\n",
        "– Example: For the input [1, 2, 3, 4, 5], the output should be [5, 4, 3, 2, 1]."
      ],
      "metadata": {
        "id": "vRNGKjapuLSW"
      }
    },
    {
      "cell_type": "code",
      "source": [
        "def reverse_list(lst):\n",
        "    \"\"\"Returns the reversed list using slicing.\"\"\"\n",
        "    return lst[::-1]\n",
        "\n",
        "print(reverse_list([1, 2, 3, 4, 5]))"
      ],
      "metadata": {
        "colab": {
          "base_uri": "https://localhost:8080/"
        },
        "id": "8dLCZeT8uH96",
        "outputId": "5b60c620-ad14-4222-a72a-ae373f76fefd"
      },
      "execution_count": null,
      "outputs": [
        {
          "output_type": "stream",
          "name": "stdout",
          "text": [
            "[5, 4, 3, 2, 1]\n"
          ]
        }
      ]
    },
    {
      "cell_type": "markdown",
      "source": [
        "4. Remove the First and Last Elements:\n",
        "\n",
        "Write a Python function that removes the first and last elements of a list and returns the resulting sublist.\n",
        "\n",
        "• Requirements:\n",
        "\n",
        "– Define a function remove first last(lst) that takes a list lst and returns a sublist without the first and last elements using slicing.\n",
        "\n",
        "– Example: For the input [1, 2, 3, 4, 5], the output should be [2, 3, 4]."
      ],
      "metadata": {
        "id": "JJqDJfr9uZ2F"
      }
    },
    {
      "cell_type": "code",
      "source": [
        "def remove_first_last(lst):\n",
        "    \"\"\"Removes the first and last elements from the list.\"\"\"\n",
        "    return lst[1:-1]\n",
        "\n",
        "print(remove_first_last([1, 2, 3, 4, 5]))"
      ],
      "metadata": {
        "colab": {
          "base_uri": "https://localhost:8080/"
        },
        "id": "laNYy81CuUHr",
        "outputId": "2cdf2d35-57e2-4a81-ff1d-3c23bd99b504"
      },
      "execution_count": null,
      "outputs": [
        {
          "output_type": "stream",
          "name": "stdout",
          "text": [
            "[2, 3, 4]\n"
          ]
        }
      ]
    },
    {
      "cell_type": "markdown",
      "source": [
        "5. Get the First n Elements:\n",
        "\n",
        "Write a Python function that extracts the first n elements from a list.\n",
        "\n",
        "• Requirements:\n",
        "\n",
        "– Define a function get first n(lst, n) that takes a list lst and an integer n as input and returns the first n elements of the list using slicing.\n",
        "\n",
        "– Example: For the input [1, 2, 3, 4, 5] with n=3, the output should be [1, 2, 3]."
      ],
      "metadata": {
        "id": "g3habAMVuuw7"
      }
    },
    {
      "cell_type": "code",
      "source": [
        "def get_first_n(lst, n):\n",
        "    \"\"\"Returns the first n elements of the list.\"\"\"\n",
        "    return lst[:n]\n",
        "\n",
        "print(get_first_n([1, 2, 3, 4, 5], 3))"
      ],
      "metadata": {
        "colab": {
          "base_uri": "https://localhost:8080/"
        },
        "id": "pIjRSrjdur52",
        "outputId": "1fbb4f01-d53d-4d62-b4f5-7d0b0cc7fc15"
      },
      "execution_count": null,
      "outputs": [
        {
          "output_type": "stream",
          "name": "stdout",
          "text": [
            "[1, 2, 3]\n"
          ]
        }
      ]
    },
    {
      "cell_type": "markdown",
      "source": [
        "6. Extract Elements from the End:\n",
        "\n",
        "Write a Python function that extracts the last n elements of a list using slicing.\n",
        "\n",
        "• Requirements:\n",
        "\n",
        "– Define a function get last n(lst, n) that takes a list lst and an integer n as input and returns the last n elements of the list.\n",
        "\n",
        "– Example: For the input [1, 2, 3, 4, 5] with n=2, the output should be [4, 5]."
      ],
      "metadata": {
        "id": "vGq6yYcbve3Q"
      }
    },
    {
      "cell_type": "code",
      "source": [
        "def get_last_n(lst, n):\n",
        "    \"\"\"Returns the last n elements of the list.\"\"\"\n",
        "    return lst[-n:]\n",
        "\n",
        "print(get_last_n([1, 2, 3, 4, 5], 2))"
      ],
      "metadata": {
        "colab": {
          "base_uri": "https://localhost:8080/"
        },
        "id": "xoh7FgJnvddP",
        "outputId": "7db9f3d1-ca5c-441b-ef5e-11dc6e099a55"
      },
      "execution_count": null,
      "outputs": [
        {
          "output_type": "stream",
          "name": "stdout",
          "text": [
            "[4, 5]\n"
          ]
        }
      ]
    },
    {
      "cell_type": "markdown",
      "source": [
        "7. Extract Elements in Reverse Order:\n",
        "\n",
        "Write a Python function that extracts a list of elements in reverse order starting from the second-to-last element and skipping one element in between.\n",
        "\n",
        "• Requirements:\n",
        "\n",
        "– Define a function reverse skip(lst) that takes a list lst and returns a new list containing every second element starting from the second-to-last, moving backward.\n",
        "\n",
        "– Example: For the input [1, 2, 3, 4, 5, 6], the output should be [5, 3, 1]."
      ],
      "metadata": {
        "id": "FJRlV1kQv5Ru"
      }
    },
    {
      "cell_type": "code",
      "source": [
        "def reverse_skip(lst):\n",
        "    \"\"\"Returns every second element from the end, moving backward.\"\"\"\n",
        "    return lst[-2::-2]\n",
        "\n",
        "print(reverse_skip([1, 2, 3, 4, 5, 6]))"
      ],
      "metadata": {
        "colab": {
          "base_uri": "https://localhost:8080/"
        },
        "id": "V97hIfEQv4Fv",
        "outputId": "425f98e3-a2a6-400d-b618-de2da7f4b607"
      },
      "execution_count": null,
      "outputs": [
        {
          "output_type": "stream",
          "name": "stdout",
          "text": [
            "[5, 3, 1]\n"
          ]
        }
      ]
    },
    {
      "cell_type": "markdown",
      "source": [
        "**4.3) Exercise on Nested List:**"
      ],
      "metadata": {
        "id": "F3Cslj45wHaB"
      }
    },
    {
      "cell_type": "markdown",
      "source": [
        "1. Flatten a Nested List:\n",
        "\n",
        "Write a Python function that takes a nested list and flattens it into a single list, where all the elements are in a single dimension.\n",
        "\n",
        "• Requirements:\n",
        "\n",
        "– Define a function flatten(lst) that takes a nested list lst and returns a flattened version of the list.\n",
        "\n",
        "– Example: For the input [[1, 2], [3, 4], [5]], the output should be [1, 2, 3, 4, 5]."
      ],
      "metadata": {
        "id": "8Xj7sH_gwPS4"
      }
    },
    {
      "cell_type": "code",
      "source": [
        "def flatten(lst):\n",
        "    \"\"\"Flattens a nested list into a single list.\"\"\"\n",
        "    flat_list = []\n",
        "    for item in lst:\n",
        "        if isinstance(item, list):\n",
        "            flat_list.extend(flatten(item))\n",
        "        else:\n",
        "            flat_list.append(item)\n",
        "    return flat_list\n",
        "\n",
        "nested_list = [[1, 2], [3, 4], [5]]\n",
        "print(flatten(nested_list))"
      ],
      "metadata": {
        "colab": {
          "base_uri": "https://localhost:8080/"
        },
        "id": "3MSSX9JtwEft",
        "outputId": "7d8db4a9-3b04-4377-cbdb-9d2c265e0c3a"
      },
      "execution_count": null,
      "outputs": [
        {
          "output_type": "stream",
          "name": "stdout",
          "text": [
            "[1, 2, 3, 4, 5]\n"
          ]
        }
      ]
    },
    {
      "cell_type": "markdown",
      "source": [
        "2. Accessing Nested List Elements:\n",
        "\n",
        "Write a Python function that extracts a specific element from a nested list given its indices.\n",
        "\n",
        "• Requirements:\n",
        "\n",
        "– Define a function access nested element(lst, indices) that takes a nested list lst and a list of indices indices, and returns the element at that position.\n",
        "\n",
        "– Example: For the input lst = [[1, 2, 3], [4, 5, 6], [7, 8, 9]] with indices = [1, 2], the output should be 6."
      ],
      "metadata": {
        "id": "Moky3ajRxErZ"
      }
    },
    {
      "cell_type": "code",
      "source": [
        "def access_nested_element(lst, indices):\n",
        "    \"\"\"Extracts a specific element from a nested list given its indices.\"\"\"\n",
        "    element = lst\n",
        "    for index in indices:\n",
        "        element = element[index]\n",
        "    return element\n",
        "\n",
        "lst = [[1, 2, 3], [4, 5, 6], [7, 8, 9]]\n",
        "indices = [1, 2]\n",
        "print(access_nested_element(lst, indices))"
      ],
      "metadata": {
        "colab": {
          "base_uri": "https://localhost:8080/"
        },
        "id": "Tde1NRnZxCQL",
        "outputId": "1b24a1f8-9263-43a4-c684-ae1c577db5b4"
      },
      "execution_count": null,
      "outputs": [
        {
          "output_type": "stream",
          "name": "stdout",
          "text": [
            "6\n"
          ]
        }
      ]
    },
    {
      "cell_type": "markdown",
      "source": [
        "3. Sum of All Elements in a Nested List:\n",
        "\n",
        "Write a Python function that calculates the sum of all the numbers in a nested list (regardless of depth).\n",
        "\n",
        "• Requirements:\n",
        "– Define a function sum nested(lst) that takes a nested list lst and returns the sum of all the elements.\n",
        "\n",
        "– Example: For the input [[1, 2], [3, [4, 5]], 6], the output should be 21."
      ],
      "metadata": {
        "id": "g5vRpuqExWF_"
      }
    },
    {
      "cell_type": "code",
      "source": [
        "def sum_nested(lst):\n",
        "    \"\"\"Calculates the sum of all numbers in a nested list.\"\"\"\n",
        "    total = 0\n",
        "    for item in lst:\n",
        "        if isinstance(item, list):\n",
        "            total += sum_nested(item)\n",
        "        else:\n",
        "            total += item\n",
        "    return total\n",
        "\n",
        "nested_list = [[1, 2], [3, [4, 5]], 6]\n",
        "print(sum_nested(nested_list))"
      ],
      "metadata": {
        "colab": {
          "base_uri": "https://localhost:8080/"
        },
        "id": "2aJwPoUZxUiv",
        "outputId": "8d79eab4-fc06-4137-c0b2-a9b81a96b039"
      },
      "execution_count": null,
      "outputs": [
        {
          "output_type": "stream",
          "name": "stdout",
          "text": [
            "21\n"
          ]
        }
      ]
    },
    {
      "cell_type": "markdown",
      "source": [
        "4. Remove Specific Element from a Nested List:\n",
        "\n",
        "Write a Python function that removes all occurrences of a specific element from a nested list.\n",
        "\n",
        "• Requirements:\n",
        "\n",
        "– Define a function remove element(lst, elem) that removes elem from lst and returns the modified list.\n",
        "\n",
        "– Example: For the input lst = [[1, 2], [3, 2], [4, 5]] and elem = 2, the output should be [[1], [3], [4, 5]]."
      ],
      "metadata": {
        "id": "UYX_C7BuyEjh"
      }
    },
    {
      "cell_type": "code",
      "source": [
        "def remove_element(lst, elem):\n",
        "    \"\"\"Removes all occurrences of a specific element from a nested list.\"\"\"\n",
        "    result = []\n",
        "    for item in lst:\n",
        "        if isinstance(item, list):\n",
        "            result.append(remove_element(item, elem))\n",
        "        elif item != elem:\n",
        "            result.append(item)\n",
        "    return result\n",
        "\n",
        "nested_list = [[1, 2], [3, 2], [4, 5]]\n",
        "elem = 2\n",
        "print(remove_element(nested_list, elem))"
      ],
      "metadata": {
        "colab": {
          "base_uri": "https://localhost:8080/"
        },
        "id": "pc0Io29nxt9b",
        "outputId": "aad1e59e-ae4c-41a9-9fc7-19caf992a4e0"
      },
      "execution_count": null,
      "outputs": [
        {
          "output_type": "stream",
          "name": "stdout",
          "text": [
            "[[1], [3], [4, 5]]\n"
          ]
        }
      ]
    },
    {
      "cell_type": "markdown",
      "source": [
        "5. Find the Maximum Element in a Nested List:\n",
        "\n",
        "Write a Python function that finds the maximum element in a nested list (regardless of depth).\n",
        "\n",
        "• Requirements:\n",
        "\n",
        "– Define a function find max(lst) that takes a nested list lst and returns the maximum element.\n",
        "\n",
        "– Example: For the input [[1, 2], [3, [4, 5]], 6], the output should be 6."
      ],
      "metadata": {
        "id": "f07PbVTqyUGk"
      }
    },
    {
      "cell_type": "code",
      "source": [
        "def find_max(lst):\n",
        "    \"\"\"Finds the maximum element in a nested list.\"\"\"\n",
        "    max_value = float('-inf')\n",
        "    for item in lst:\n",
        "        if isinstance(item, list):\n",
        "            max_value = max(max_value, find_max(item))\n",
        "        else:\n",
        "            max_value = max(max_value, item)\n",
        "    return max_value\n",
        "\n",
        "nested_list = [[1, 2], [3, [4, 5]], 6]\n",
        "print(find_max(nested_list))"
      ],
      "metadata": {
        "colab": {
          "base_uri": "https://localhost:8080/"
        },
        "id": "YseI3Sr3yR7E",
        "outputId": "2ae86974-c168-4879-e0f6-3193ac952638"
      },
      "execution_count": null,
      "outputs": [
        {
          "output_type": "stream",
          "name": "stdout",
          "text": [
            "6\n"
          ]
        }
      ]
    },
    {
      "cell_type": "markdown",
      "source": [
        "6. Count Occurrences of an Element in a Nested List:\n",
        "\n",
        "Write a Python function that counts how many times a specific element appears in a nested list.\n",
        "• Requirements:\n",
        "\n",
        "– Define a function count occurrences(lst, elem) that counts the occurrences of elem in the nested list lst.\n",
        "\n",
        "– Example: For the input lst = [[1, 2], [2, 3], [2, 4]] and elem = 2, the output should be 3."
      ],
      "metadata": {
        "id": "viwAKsgKygJ_"
      }
    },
    {
      "cell_type": "code",
      "source": [
        "def count_occurrences(lst, elem):\n",
        "    \"\"\"Counts how many times a specific element appears in a nested list.\"\"\"\n",
        "    count = 0\n",
        "    for item in lst:\n",
        "        if isinstance(item, list):\n",
        "            count += count_occurrences(item, elem)\n",
        "        elif item == elem:\n",
        "            count += 1\n",
        "    return count\n",
        "\n",
        "nested_list = [[1, 2], [2, 3], [2, 4]]\n",
        "elem = 2\n",
        "print(count_occurrences(nested_list, elem))"
      ],
      "metadata": {
        "colab": {
          "base_uri": "https://localhost:8080/"
        },
        "id": "gCsqbYljyfR9",
        "outputId": "ff0a4fa8-a5d4-4c9e-c2eb-735f0c37c7fd"
      },
      "execution_count": null,
      "outputs": [
        {
          "output_type": "stream",
          "name": "stdout",
          "text": [
            "3\n"
          ]
        }
      ]
    },
    {
      "cell_type": "markdown",
      "source": [
        "7. Flatten a List of Lists of Lists:\n",
        "\n",
        "Write a Python function that flattens a list of lists of lists into a single list, regardless of the depth.\n",
        "\n",
        "• Requirements:\n",
        "– Define a function deep flatten(lst) that takes a deeply nested list lst and returns a single flattened list.\n",
        "\n",
        "– Example: For the input [[[1, 2], [3, 4]], [[5, 6], [7, 8]]], the output should be [1, 2, 3, 4, 5, 6, 7, 8]."
      ],
      "metadata": {
        "id": "Jbgvj1l_yvhn"
      }
    },
    {
      "cell_type": "code",
      "source": [
        "def deep_flatten(lst):\n",
        "    \"\"\"Flattens a list of lists of lists into a single list.\"\"\"\n",
        "    flat_list = []\n",
        "    for item in lst:\n",
        "        if isinstance(item, list):\n",
        "            flat_list.extend(deep_flatten(item))\n",
        "        else:\n",
        "            flat_list.append(item)\n",
        "    return flat_list\n",
        "\n",
        "nested_list = [[[1, 2], [3, 4]], [[5, 6], [7, 8]]]\n",
        "print(deep_flatten(nested_list))"
      ],
      "metadata": {
        "colab": {
          "base_uri": "https://localhost:8080/"
        },
        "id": "7t4kbLTryuWo",
        "outputId": "fbcc834a-4f1f-4719-c41a-d3a4772ed9e9"
      },
      "execution_count": null,
      "outputs": [
        {
          "output_type": "stream",
          "name": "stdout",
          "text": [
            "[1, 2, 3, 4, 5, 6, 7, 8]\n"
          ]
        }
      ]
    },
    {
      "cell_type": "markdown",
      "source": [
        "8. Nested List Average:\n",
        "\n",
        "Write a Python function that calculates the average of all elements in a nested list.\n",
        "\n",
        "• Requirements:\n",
        "\n",
        "– Define a function average nested(lst) that takes a nested list lst and returns the average of all the elements.\n",
        "\n",
        "– Example: For the input [[1, 2], [3, 4], [5, 6]], the output should be 3.5."
      ],
      "metadata": {
        "id": "XAIv7trny6Qx"
      }
    },
    {
      "cell_type": "code",
      "source": [
        "def average_nested(lst):\n",
        "    \"\"\"Calculates the average of all elements in a nested list.\"\"\"\n",
        "    flat_list = deep_flatten(lst)\n",
        "    return sum(flat_list) / len(flat_list) if flat_list else 0\n",
        "\n",
        "nested_list = [[1, 2], [3, 4], [5, 6]]\n",
        "print(average_nested(nested_list))"
      ],
      "metadata": {
        "colab": {
          "base_uri": "https://localhost:8080/"
        },
        "id": "vlG7F9Zwy5Fx",
        "outputId": "8a7af23c-8394-4af1-c1ee-a64326734749"
      },
      "execution_count": null,
      "outputs": [
        {
          "output_type": "stream",
          "name": "stdout",
          "text": [
            "3.5\n"
          ]
        }
      ]
    },
    {
      "cell_type": "markdown",
      "source": [
        "**10) To - Do - NumPy**"
      ],
      "metadata": {
        "id": "j5jqYhngzGyN"
      }
    },
    {
      "cell_type": "markdown",
      "source": [
        "1.4.1) Basic Vector and Matrix Operation with Numpy."
      ],
      "metadata": {
        "id": "bA17PZlr0JTA"
      }
    },
    {
      "cell_type": "markdown",
      "source": [
        "Problem - 1: Array Creation:\n",
        "\n",
        "Complete the following Tasks:\n",
        "1. Initialize an empty array with size 2X2.\n",
        "2. Initialize an all one array with size 4X2.\n",
        "3. Return a new array of given shape and type, filled with fill value.{Hint: np.full}\n",
        "4. Return a new array of zeros with same shape and type as a given array.{Hint: np.zeros like}\n",
        "5. Return a new array of ones with same shape and type as a given array.{Hint: np.ones like}\n",
        "6. For an existing list new_list = [1,2,3,4] convert to an numpy array.{Hint: np.array()}"
      ],
      "metadata": {
        "id": "zarxaNoh0N2v"
      }
    },
    {
      "cell_type": "code",
      "source": [
        "# 1. Initialize an empty array with size 2X2.\n",
        "import numpy as np\n",
        "empty_array = np.empty((2, 2))\n",
        "print(empty_array)"
      ],
      "metadata": {
        "colab": {
          "base_uri": "https://localhost:8080/"
        },
        "id": "1ndN11RZzFTf",
        "outputId": "37ed5947-7462-4e19-8fc0-c6713bd8e041"
      },
      "execution_count": null,
      "outputs": [
        {
          "output_type": "stream",
          "name": "stdout",
          "text": [
            "[[2.99231664e-316 0.00000000e+000]\n",
            " [6.59737730e-310 6.67421148e-310]]\n"
          ]
        }
      ]
    },
    {
      "cell_type": "code",
      "source": [
        "# 2. Initialize an all one array with size 4X2.\n",
        "import numpy as np\n",
        "all_one_array = np.ones((4, 2))\n",
        "print(all_one_array)"
      ],
      "metadata": {
        "colab": {
          "base_uri": "https://localhost:8080/"
        },
        "id": "pI3-Gijh0k6l",
        "outputId": "40e75164-383c-41e1-b3f2-cc366c66f123"
      },
      "execution_count": null,
      "outputs": [
        {
          "output_type": "stream",
          "name": "stdout",
          "text": [
            "[[1. 1.]\n",
            " [1. 1.]\n",
            " [1. 1.]\n",
            " [1. 1.]]\n"
          ]
        }
      ]
    },
    {
      "cell_type": "code",
      "source": [
        "# 3. Return a new array of given shape and type, filled with fill value.{Hint: np.full}\n",
        "import numpy as np\n",
        "fill_array = np.full((3, 3), 7)\n",
        "print(fill_array)"
      ],
      "metadata": {
        "colab": {
          "base_uri": "https://localhost:8080/"
        },
        "id": "NBKiFwVjm1yn",
        "outputId": "4c19d412-e793-4289-c72e-e294ca3c3590"
      },
      "execution_count": null,
      "outputs": [
        {
          "output_type": "stream",
          "name": "stdout",
          "text": [
            "[[7 7 7]\n",
            " [7 7 7]\n",
            " [7 7 7]]\n"
          ]
        }
      ]
    },
    {
      "cell_type": "code",
      "source": [
        "# 4. Return a new array of zeros with same shape and type as a given array.{Hint: np.zeros like}\n",
        "import numpy as np\n",
        "given_array = np.array([[1, 2, 3], [4, 5, 6]])\n",
        "zeros_array = np.zeros_like(given_array)\n",
        "print(zeros_array)"
      ],
      "metadata": {
        "colab": {
          "base_uri": "https://localhost:8080/"
        },
        "id": "EYqOvAlInHEu",
        "outputId": "56792679-518a-41e6-cd43-c5e43fe5a458"
      },
      "execution_count": null,
      "outputs": [
        {
          "output_type": "stream",
          "name": "stdout",
          "text": [
            "[[0 0 0]\n",
            " [0 0 0]]\n"
          ]
        }
      ]
    },
    {
      "cell_type": "code",
      "source": [
        "# 5. Return a new array of ones with same shape and type as a given array.{Hint: np.ones like}\n",
        "import numpy as np\n",
        "example_array = np.array([[1, 2, 3], [4, 5, 6]])\n",
        "ones_array = np.ones_like(example_array)\n",
        "print(ones_array)"
      ],
      "metadata": {
        "colab": {
          "base_uri": "https://localhost:8080/"
        },
        "id": "KSag7Ku3nXDk",
        "outputId": "9988e5f6-02ad-4541-98ac-6def13935451"
      },
      "execution_count": null,
      "outputs": [
        {
          "output_type": "stream",
          "name": "stdout",
          "text": [
            "[[1 1 1]\n",
            " [1 1 1]]\n"
          ]
        }
      ]
    },
    {
      "cell_type": "code",
      "source": [
        "# 6. For an existing list new_list = [1,2,3,4] convert to an numpy array.{Hint: np.array()}\n",
        "import numpy as np\n",
        "new_list = [1, 2, 3, 4]\n",
        "numpy_array = np.array(new_list)\n",
        "print(numpy_array)"
      ],
      "metadata": {
        "colab": {
          "base_uri": "https://localhost:8080/"
        },
        "id": "zQ-xPKsMuFfR",
        "outputId": "8835b5b4-a27a-4801-bd44-9c994ba3acf2"
      },
      "execution_count": null,
      "outputs": [
        {
          "output_type": "stream",
          "name": "stdout",
          "text": [
            "[1 2 3 4]\n"
          ]
        }
      ]
    },
    {
      "cell_type": "markdown",
      "source": [
        "Problem - 2:\n",
        "\n",
        "Array Manipulation: Numerical Ranges and Array indexing\n",
        "\n",
        "Complete the following tasks:\n",
        "1. Create an array with values ranging from 10 to 49. {Hint:np.arrange()}.\n",
        "2. Create a 3X3 matrix with values ranging from 0 to 8.\n",
        "{Hint:look for np.reshape()}\n",
        "3. Create a 3X3 identity matrix.{Hint:np.eye()}\n",
        "4. Create a random array of size 30 and find the mean of the array.{Hint:check for np.random.random() and array.mean() function}\n",
        "5. Create a 10X10 array with random values and find the minimum and maximum values.\n",
        "6. Create a zero array of size 10 and replace 5th element with 1.\n",
        "7. Reverse an array arr = [1,2,0,0,4,0].\n",
        "8. Create a 2d array with 1 on border and 0 inside.\n",
        "9. Create a 8X8 matrix and fill it with a checkerboard pattern."
      ],
      "metadata": {
        "id": "32TUYmBZvZqk"
      }
    },
    {
      "cell_type": "code",
      "source": [
        "# 1. Create an array with values ranging from 10 to 49. {Hint:np.arrange()}.\n",
        "import numpy as np\n",
        "array_range = np.arange(10, 50)\n",
        "print(array_range)"
      ],
      "metadata": {
        "colab": {
          "base_uri": "https://localhost:8080/"
        },
        "id": "7DaDRDNovQsC",
        "outputId": "422069fa-ffa4-42dc-86c5-d5475bfd87f7"
      },
      "execution_count": null,
      "outputs": [
        {
          "output_type": "stream",
          "name": "stdout",
          "text": [
            "[10 11 12 13 14 15 16 17 18 19 20 21 22 23 24 25 26 27 28 29 30 31 32 33\n",
            " 34 35 36 37 38 39 40 41 42 43 44 45 46 47 48 49]\n"
          ]
        }
      ]
    },
    {
      "cell_type": "code",
      "source": [
        "# 2. Create a 3X3 matrix with values ranging from 0 to 8. {Hint:look for np.reshape()}\n",
        "import numpy as np\n",
        "matrix_values = np.arange(9).reshape(3, 3)\n",
        "print(matrix_values)"
      ],
      "metadata": {
        "colab": {
          "base_uri": "https://localhost:8080/"
        },
        "id": "XUR5MY-9vqXq",
        "outputId": "ac670bde-1d82-4aec-a45a-7dbd9612e579"
      },
      "execution_count": null,
      "outputs": [
        {
          "output_type": "stream",
          "name": "stdout",
          "text": [
            "[[0 1 2]\n",
            " [3 4 5]\n",
            " [6 7 8]]\n"
          ]
        }
      ]
    },
    {
      "cell_type": "code",
      "source": [
        "# 3. Create a 3X3 identity matrix.{Hint:np.eye()}\n",
        "import numpy as np\n",
        "identity_matrix = np.eye(3)\n",
        "print(identity_matrix)"
      ],
      "metadata": {
        "colab": {
          "base_uri": "https://localhost:8080/"
        },
        "id": "8m8eGwBbvz5c",
        "outputId": "bdcbec26-2efb-48ea-9e3a-da6cde5f0983"
      },
      "execution_count": null,
      "outputs": [
        {
          "output_type": "stream",
          "name": "stdout",
          "text": [
            "[[1. 0. 0.]\n",
            " [0. 1. 0.]\n",
            " [0. 0. 1.]]\n"
          ]
        }
      ]
    },
    {
      "cell_type": "code",
      "source": [
        "# 4. Create a random array of size 30 and find the mean of the array.{Hint:check for np.random.random() and array.mean() function}\n",
        "import numpy as np\n",
        "random_array = np.random.random(30)\n",
        "mean_value = random_array.mean()\n",
        "print(mean_value)"
      ],
      "metadata": {
        "colab": {
          "base_uri": "https://localhost:8080/"
        },
        "id": "BbT_INvVv4u5",
        "outputId": "e88f33ca-35df-4f75-e90d-0010dea86ca9"
      },
      "execution_count": null,
      "outputs": [
        {
          "output_type": "stream",
          "name": "stdout",
          "text": [
            "0.5247469017348465\n"
          ]
        }
      ]
    },
    {
      "cell_type": "code",
      "source": [
        "# 5. Create a 10X10 array with random values and find the minimum and maximum values\n",
        "import numpy as np\n",
        "random_array = np.random.random((10, 10))\n",
        "min_value = random_array.min()\n",
        "max_value = random_array.max()\n",
        "print(f\"Minimum value = {min_value}\")\n",
        "print(f\"Maximum value = {max_value}\")"
      ],
      "metadata": {
        "colab": {
          "base_uri": "https://localhost:8080/"
        },
        "id": "9Mu-_qkRwAar",
        "outputId": "6e02a52b-a315-41ab-c288-bbc40702361c"
      },
      "execution_count": null,
      "outputs": [
        {
          "output_type": "stream",
          "name": "stdout",
          "text": [
            "Minimum value = 0.0018242593951209862\n",
            "Maximum value = 0.9963990527143564\n"
          ]
        }
      ]
    },
    {
      "cell_type": "code",
      "source": [
        "# 6. Create a zero array of size 10 and replace 5th element with 1.\n",
        "import numpy as np\n",
        "zero_array = np.zeros(10)\n",
        "zero_array[4] = 1\n",
        "print(zero_array)"
      ],
      "metadata": {
        "colab": {
          "base_uri": "https://localhost:8080/"
        },
        "id": "Oqfqe6z0wGd8",
        "outputId": "28a4c2c8-7f0a-4dee-8c70-1eac5d6690d5"
      },
      "execution_count": null,
      "outputs": [
        {
          "output_type": "stream",
          "name": "stdout",
          "text": [
            "[0. 0. 0. 0. 1. 0. 0. 0. 0. 0.]\n"
          ]
        }
      ]
    },
    {
      "cell_type": "code",
      "source": [
        "# 7.Reverse an array arr = [1,2,0,0,4,0].\n",
        "import numpy as np\n",
        "arr = np.array([1, 2, 0, 0, 4, 0])\n",
        "reversed_arr = arr[::-1]\n",
        "print(reversed_arr)"
      ],
      "metadata": {
        "colab": {
          "base_uri": "https://localhost:8080/"
        },
        "id": "XCRxlmLuwvDz",
        "outputId": "2874e497-6a57-4623-c757-0698fe573010"
      },
      "execution_count": null,
      "outputs": [
        {
          "output_type": "stream",
          "name": "stdout",
          "text": [
            "[0 4 0 0 2 1]\n"
          ]
        }
      ]
    },
    {
      "cell_type": "code",
      "source": [
        "# 8. Create a 2d array with 1 on border and 0 inside.\n",
        "import numpy as np\n",
        "border_array = np.ones((5, 5))\n",
        "border_array[1:-1, 1:-1] = 0\n",
        "print(border_array)"
      ],
      "metadata": {
        "colab": {
          "base_uri": "https://localhost:8080/"
        },
        "id": "TwVncZfFw1jP",
        "outputId": "63e6a0f3-888f-4878-e9e5-9a18cf9d5ed6"
      },
      "execution_count": null,
      "outputs": [
        {
          "output_type": "stream",
          "name": "stdout",
          "text": [
            "[[1. 1. 1. 1. 1.]\n",
            " [1. 0. 0. 0. 1.]\n",
            " [1. 0. 0. 0. 1.]\n",
            " [1. 0. 0. 0. 1.]\n",
            " [1. 1. 1. 1. 1.]]\n"
          ]
        }
      ]
    },
    {
      "cell_type": "code",
      "source": [
        "# 9.Create a 8X8 matrix and fill it with a checkerboard pattern.\n",
        "import numpy as np\n",
        "\n",
        "checkerboard = np.zeros((8, 8), dtype=int)\n",
        "checkerboard[1::2, ::2] = 1\n",
        "checkerboard[::2, 1::2] = 1\n",
        "\n",
        "print(checkerboard)"
      ],
      "metadata": {
        "colab": {
          "base_uri": "https://localhost:8080/"
        },
        "id": "g7yJf3rVw7ZN",
        "outputId": "a5439d5a-dab8-410c-ea66-b1937280812c"
      },
      "execution_count": null,
      "outputs": [
        {
          "output_type": "stream",
          "name": "stdout",
          "text": [
            "[[0 1 0 1 0 1 0 1]\n",
            " [1 0 1 0 1 0 1 0]\n",
            " [0 1 0 1 0 1 0 1]\n",
            " [1 0 1 0 1 0 1 0]\n",
            " [0 1 0 1 0 1 0 1]\n",
            " [1 0 1 0 1 0 1 0]\n",
            " [0 1 0 1 0 1 0 1]\n",
            " [1 0 1 0 1 0 1 0]]\n"
          ]
        }
      ]
    },
    {
      "cell_type": "markdown",
      "source": [
        "Problem - 3:\n",
        "\n",
        "Array Operations:\n",
        "\n",
        "For the following arrays:\n",
        "\n",
        "x = np.array([[1,2],[3,5]]) and y = np.array([[5,6],[7,8]]);\n",
        "v = np.array([9,10]) and w = np.array([11,12]);\n",
        "\n",
        "Complete all the task using numpy:\n",
        "1. Add the two array.\n",
        "2. Subtract the two array.\n",
        "3. Multiply the array with any integers of your choice.\n",
        "4. Find the square of each element of the array.\n",
        "5. Find the dot product between: v(and)w ; x(and)v ; x(and)y.\n",
        "6. Concatenate x(and)y along row and Concatenate v(and)w along column. {Hint:try np.concatenate() or np.vstack() functions.\n",
        "7. Concatenate x(and)v; if you get an error, observe and explain why did you get the error?"
      ],
      "metadata": {
        "id": "wILQ1444xrMq"
      }
    },
    {
      "cell_type": "code",
      "source": [
        "# 1. Add the two array.\n",
        "import numpy as np\n",
        "x = np.array([[1, 2], [3, 5]])\n",
        "y = np.array([[5, 6], [7, 8]])\n",
        "addition_two_array = x + y\n",
        "print(addition_two_array)"
      ],
      "metadata": {
        "colab": {
          "base_uri": "https://localhost:8080/"
        },
        "id": "8YRYO7qRxPuw",
        "outputId": "c999491e-2275-4cb7-b659-4038cdf8bdd9"
      },
      "execution_count": null,
      "outputs": [
        {
          "output_type": "stream",
          "name": "stdout",
          "text": [
            "[[ 6  8]\n",
            " [10 13]]\n"
          ]
        }
      ]
    },
    {
      "cell_type": "code",
      "source": [
        "# 2.Subtract the two array.\n",
        "import numpy as np\n",
        "x = np.array([[1, 2], [3, 5]])\n",
        "y = np.array([[5, 6], [7, 8]])\n",
        "subtraction_two_array = x - y\n",
        "print(subtraction_two_array)"
      ],
      "metadata": {
        "colab": {
          "base_uri": "https://localhost:8080/"
        },
        "id": "vHZJPuG0yCTd",
        "outputId": "f146a47b-74e8-4769-cc1e-2aae952c8ce9"
      },
      "execution_count": null,
      "outputs": [
        {
          "output_type": "stream",
          "name": "stdout",
          "text": [
            "[[-4 -4]\n",
            " [-4 -3]]\n"
          ]
        }
      ]
    },
    {
      "cell_type": "code",
      "source": [
        "# 3. Multiply the array with any integers of your choice.\n",
        "import numpy as np\n",
        "x = np.array([[1, 2], [3, 5]])\n",
        "y = np.array([[5, 6], [7, 8]])\n",
        "multiplication_two_array = x * 2\n",
        "print(multiplication_two_array)"
      ],
      "metadata": {
        "colab": {
          "base_uri": "https://localhost:8080/"
        },
        "id": "IuZ8CUGHyM7D",
        "outputId": "44ed77eb-2c7e-4e26-f077-357b035ed303"
      },
      "execution_count": null,
      "outputs": [
        {
          "output_type": "stream",
          "name": "stdout",
          "text": [
            "[[ 2  4]\n",
            " [ 6 10]]\n"
          ]
        }
      ]
    },
    {
      "cell_type": "code",
      "source": [
        "# 4. Find the square of each element of the array.\n",
        "import numpy as np\n",
        "x = np.array([[1, 2], [3, 5]])\n",
        "square_two_array = x ** 2\n",
        "print(square_two_array)"
      ],
      "metadata": {
        "colab": {
          "base_uri": "https://localhost:8080/"
        },
        "id": "ubhAi9bMyQm9",
        "outputId": "6bc5c6a0-39d7-4a98-e496-adba2f025f80"
      },
      "execution_count": null,
      "outputs": [
        {
          "output_type": "stream",
          "name": "stdout",
          "text": [
            "[[ 1  4]\n",
            " [ 9 25]]\n"
          ]
        }
      ]
    },
    {
      "cell_type": "code",
      "source": [
        "# 5. Find the dot product between: v(and)w ; x(and)v ; x(and)y.\n",
        "import numpy as np\n",
        "\n",
        "x = np.array([[1, 2], [3, 5]])\n",
        "y = np.array([[5, 6], [7, 8]])\n",
        "v = np.array([9, 10])\n",
        "w = np.array([11, 12])\n",
        "\n",
        "dot_vw = np.dot(v, w)\n",
        "dot_xv = np.dot(x, v)\n",
        "dot_xy = np.dot(x, y)\n",
        "\n",
        "print(f\"Dot product of v and w = {dot_vw}\")\n",
        "print(f\"Dot product of x and v ={dot_xv}\")\n",
        "print(f\"Dot product of x and y ={dot_xy}\")\n"
      ],
      "metadata": {
        "colab": {
          "base_uri": "https://localhost:8080/"
        },
        "id": "NcD_yyhdyWte",
        "outputId": "c543a31b-63d1-44df-8bf6-bd83245b2c99"
      },
      "execution_count": null,
      "outputs": [
        {
          "output_type": "stream",
          "name": "stdout",
          "text": [
            "Dot product of v and w = 219\n",
            "Dot product of x and v =[29 77]\n",
            "Dot product of x and y =[[19 22]\n",
            " [50 58]]\n"
          ]
        }
      ]
    },
    {
      "cell_type": "code",
      "source": [
        "# 6. Concatenate x(and)y along row and Concatenate v(and)w along column. {Hint:try np.concatenate() or np.vstack() functions.\n",
        "import numpy as np\n",
        "\n",
        "x = np.array([[1, 2], [3, 5]])\n",
        "y = np.array([[5, 6], [7, 8]])\n",
        "v = np.array([9, 10])\n",
        "w = np.array([11, 12])\n",
        "\n",
        "concat_xy = np.concatenate((x, y), axis=0)\n",
        "\n",
        "v = v.reshape(-1, 1)\n",
        "w = w.reshape(-1, 1)\n",
        "\n",
        "concat_vw = np.concatenate((v, w), axis=1)\n",
        "\n",
        "print(\"Concatenation of x and y along rows:\\n\", concat_xy)\n",
        "print(\"\\nConcatenation of v and w along columns:\\n\", concat_vw)\n"
      ],
      "metadata": {
        "colab": {
          "base_uri": "https://localhost:8080/"
        },
        "id": "wBg75H7xy2IZ",
        "outputId": "7037e9f6-0034-4c6b-e755-bc65d7b07cd3"
      },
      "execution_count": null,
      "outputs": [
        {
          "output_type": "stream",
          "name": "stdout",
          "text": [
            "Concatenation of x and y along rows:\n",
            " [[1 2]\n",
            " [3 5]\n",
            " [5 6]\n",
            " [7 8]]\n",
            "\n",
            "Concatenation of v and w along columns:\n",
            " [[ 9 11]\n",
            " [10 12]]\n"
          ]
        }
      ]
    },
    {
      "cell_type": "code",
      "source": [
        "# 7. Concatenate x(and)v; if you get an error, observe and explain why did you get the error?\n",
        "import numpy as np\n",
        "\n",
        "x = np.array([[1, 2], [3, 5]])\n",
        "v = np.array([9, 10])\n",
        "\n",
        "try:\n",
        "    concat_xv = np.concatenate((x, v), axis=0)\n",
        "    print(\"Concatenation successful:\\n\", concat_xv)\n",
        "except ValueError as e:\n",
        "    print(\"Error:\", e)"
      ],
      "metadata": {
        "colab": {
          "base_uri": "https://localhost:8080/"
        },
        "id": "DmowMHQs0CUL",
        "outputId": "9c0cb156-623d-443e-b30b-f2ac550270d1"
      },
      "execution_count": null,
      "outputs": [
        {
          "output_type": "stream",
          "name": "stdout",
          "text": [
            "Error: all the input arrays must have same number of dimensions, but the array at index 0 has 2 dimension(s) and the array at index 1 has 1 dimension(s)\n"
          ]
        }
      ]
    },
    {
      "cell_type": "markdown",
      "source": [
        "Explanation:\n",
        "\n",
        "The shape of x is (2,2) (a 2×2 matrix).\n",
        "The shape of v is (2,) (a 1D array with 2 elements).\n",
        "When concatenating along axis=0 (rows), NumPy expects the number of columns to match. x has 2 columns, but v has no explicit column dimension (it's 1D), causing a shape mismatch."
      ],
      "metadata": {
        "id": "PA594PTt0Ym0"
      }
    },
    {
      "cell_type": "markdown",
      "source": [
        "Problem - 4:\n",
        "\n",
        "Matrix Operations:\n",
        "\n",
        "• For the following arrays:\n",
        "\n",
        "A = np.array([[3,4],[7,8]]) and B = np.array([[5,3],[2,1]]);\n",
        "\n",
        "Prove following with Numpy:\n",
        "1. Prove A.A−1 = I.\n",
        "2. Prove AB ̸= BA.\n",
        "3. Prove (AB)\n",
        "\n",
        "T = BTAT\n",
        "\n",
        "• Solve the following system of Linear equation using Inverse Methods.\n",
        "\n",
        "2x − 3y + z = −1\n",
        "\n",
        "x − y + 2z = −3\n",
        "\n",
        "3x + y − z = 9\n",
        "\n",
        "{Hint: First use Numpy array to represent the equation in Matrix form. Then Solve for: AX = B}\n",
        "\n",
        "• Now: solve the above equation using np.linalg.inv function.{Explore more about ”linalg” func-\n",
        "tion of Numpy}"
      ],
      "metadata": {
        "id": "1ktIDIV50io1"
      }
    },
    {
      "cell_type": "code",
      "source": [
        "# 1. Prove A.A^−1 = I.\n",
        "import numpy as np\n",
        "\n",
        "A = np.array([[3, 4], [7, 8]])\n",
        "\n",
        "A_inv = np.linalg.inv(A)\n",
        "\n",
        "identity_matrix = np.dot(A, A_inv)\n",
        "\n",
        "print(\"A inverse (A⁻¹):\\n\", A_inv)\n",
        "print(\"\\nA * A⁻¹:\\n\", identity_matrix)\n",
        "\n",
        "I = np.eye(2)\n",
        "is_identity = np.allclose(identity_matrix, I)\n",
        "\n",
        "print(\"\\nIs A * A⁻¹ equal to Identity matrix?:\", is_identity)\n"
      ],
      "metadata": {
        "colab": {
          "base_uri": "https://localhost:8080/"
        },
        "id": "C4KhUonK0R-q",
        "outputId": "1788a0ce-5846-422d-d348-cfc36d8960c4"
      },
      "execution_count": null,
      "outputs": [
        {
          "output_type": "stream",
          "name": "stdout",
          "text": [
            "A inverse (A⁻¹):\n",
            " [[-2.    1.  ]\n",
            " [ 1.75 -0.75]]\n",
            "\n",
            "A * A⁻¹:\n",
            " [[1.00000000e+00 0.00000000e+00]\n",
            " [1.77635684e-15 1.00000000e+00]]\n",
            "\n",
            "Is A * A⁻¹ equal to Identity matrix?: True\n"
          ]
        }
      ]
    },
    {
      "cell_type": "code",
      "source": [
        "# 2. Prove AB ̸= BA.\n",
        "import numpy as np\n",
        "\n",
        "A = np.array([[3, 4], [7, 8]])\n",
        "B = np.array([[5, 3], [2, 1]])\n",
        "\n",
        "AB = np.dot(A, B)\n",
        "BA = np.dot(B, A)\n",
        "\n",
        "print(\"AB:\\n\", AB)\n",
        "print(\"\\nBA:\\n\", BA)\n",
        "\n",
        "is_equal = np.array_equal(AB, BA)\n",
        "\n",
        "print(\"\\nIs AB equal to BA?:\", is_equal)\n"
      ],
      "metadata": {
        "colab": {
          "base_uri": "https://localhost:8080/"
        },
        "id": "0v5viv8F2CyD",
        "outputId": "c7d06bef-1a30-4fe7-fa7c-83ee30455dcf"
      },
      "execution_count": null,
      "outputs": [
        {
          "output_type": "stream",
          "name": "stdout",
          "text": [
            "AB:\n",
            " [[23 13]\n",
            " [51 29]]\n",
            "\n",
            "BA:\n",
            " [[36 44]\n",
            " [13 16]]\n",
            "\n",
            "Is AB equal to BA?: False\n"
          ]
        }
      ]
    },
    {
      "cell_type": "code",
      "source": [
        "# 3. Prove (AB)^T = B^T A^T.\n",
        "import numpy as np\n",
        "\n",
        "A = np.array([[3, 4], [7, 8]])\n",
        "B = np.array([[5, 3], [2, 1]])\n",
        "\n",
        "# Compute AB\n",
        "AB = np.dot(A, B)\n",
        "\n",
        "# Compute (AB)^T\n",
        "transpose_AB = AB.T\n",
        "\n",
        "# Compute B^T and A^T\n",
        "B_T = B.T\n",
        "A_T = A.T\n",
        "\n",
        "# Compute B^T A^T\n",
        "BT_AT = np.dot(B_T, A_T)\n",
        "\n",
        "print(\"Transpose of AB ( (AB)^T ):\\n\", transpose_AB)\n",
        "print(\"\\nMultiplication of Transposed Matrices ( B^T A^T ):\\n\", BT_AT)\n",
        "\n",
        "# Verify if (AB)^T == B^T A^T\n",
        "is_equal = np.array_equal(transpose_AB, BT_AT)\n",
        "print(\"\\nIs (AB)^T equal to B^T A^T?:\", is_equal)"
      ],
      "metadata": {
        "colab": {
          "base_uri": "https://localhost:8080/"
        },
        "id": "bzr36BPa2SS9",
        "outputId": "9d637bd8-c0f4-4838-ec92-8186014606d8"
      },
      "execution_count": null,
      "outputs": [
        {
          "output_type": "stream",
          "name": "stdout",
          "text": [
            "Transpose of AB ( (AB)^T ):\n",
            " [[23 51]\n",
            " [13 29]]\n",
            "\n",
            "Multiplication of Transposed Matrices ( B^T A^T ):\n",
            " [[23 51]\n",
            " [13 29]]\n",
            "\n",
            "Is (AB)^T equal to B^T A^T?: True\n"
          ]
        }
      ]
    },
    {
      "cell_type": "code",
      "source": [
        "# Solve the following system of Linear equation using Inverse Methods.\n",
        "# 2x − 3y + z = −1\n",
        "# x − y + 2z = −3\n",
        "# 3x + y − z = 9\n",
        "\n",
        "import numpy as np\n",
        "\n",
        "A = np.array([[2, -3, 1],\n",
        "              [1, -1, 2],\n",
        "              [3, 1, -1]])\n",
        "\n",
        "B = np.array([-1, -3, 9])\n",
        "\n",
        "A_inv = np.linalg.inv(A)\n",
        "\n",
        "X = np.dot(A_inv, B)\n",
        "\n",
        "print(\"Solution for x, y, z:\")\n",
        "print(f\"x = {X[0]:.2f}\")\n",
        "print(f\"y = {X[1]:.2f}\")\n",
        "print(f\"z = {X[2]:.2f}\")"
      ],
      "metadata": {
        "colab": {
          "base_uri": "https://localhost:8080/"
        },
        "id": "GnJEOOWK25kF",
        "outputId": "d1089f79-942f-4a25-e01f-7ef5520e0f9f"
      },
      "execution_count": null,
      "outputs": [
        {
          "output_type": "stream",
          "name": "stdout",
          "text": [
            "Solution for x, y, z:\n",
            "x = 2.00\n",
            "y = 1.00\n",
            "z = -2.00\n"
          ]
        }
      ]
    },
    {
      "cell_type": "code",
      "source": [
        "# Now: solve the above equation using np.linalg.inv function.{Explore more about ”linalg” function of Numpy}\n",
        "import numpy as np\n",
        "\n",
        "A = np.array([[2, -3, 1],\n",
        "              [1, -1, 2],\n",
        "              [3, 1, -1]])\n",
        "\n",
        "B = np.array([-1, -3, 9])\n",
        "\n",
        "A_inv = np.linalg.inv(A)\n",
        "\n",
        "X = np.dot(A_inv, B)\n",
        "\n",
        "print(\"Solution using np.linalg.inv():\")\n",
        "print(f\"x = {X[0]:.2f}\")\n",
        "print(f\"y = {X[1]:.2f}\")\n",
        "print(f\"z = {X[2]:.2f}\")"
      ],
      "metadata": {
        "colab": {
          "base_uri": "https://localhost:8080/"
        },
        "id": "gO-m1fsw3BoB",
        "outputId": "388a3a19-ba5d-481c-8414-06d4624931e9"
      },
      "execution_count": null,
      "outputs": [
        {
          "output_type": "stream",
          "name": "stdout",
          "text": [
            "Solution using np.linalg.inv():\n",
            "x = 2.00\n",
            "y = 1.00\n",
            "z = -2.00\n"
          ]
        }
      ]
    },
    {
      "cell_type": "markdown",
      "source": [
        "10.2) Experiment: How Fast is Numpy?"
      ],
      "metadata": {
        "id": "7dBF5Zjx8-72"
      }
    },
    {
      "cell_type": "markdown",
      "source": [
        "1. Element-wise Addition:\n",
        "\n",
        "• Using Python Lists, perform element-wise addition of two lists of size 1, 000, 000. Measure and Print the time taken for this operation.\n",
        "\n",
        "• Using Numpy Arrays, Repeat the calculation and measure and print the time taken for this operation."
      ],
      "metadata": {
        "id": "Lw7INFBj9INk"
      }
    },
    {
      "cell_type": "code",
      "source": [
        "# Using Python Lists, perform element-wise addition of two lists of size 1, 000, 000. Measure and Print the time taken for this operation.\n",
        "\n",
        "import time\n",
        "import random\n",
        "\n",
        "# Generate two large lists of size 1,000,000 with random integers\n",
        "size = 1_000_000\n",
        "list1 = [random.randint(1, 100) for _ in range(size)]\n",
        "list2 = [random.randint(1, 100) for _ in range(size)]\n",
        "\n",
        "# Measure time for element-wise addition using list comprehension\n",
        "start_time = time.time()\n",
        "result = [a + b for a, b in zip(list1, list2)]\n",
        "end_time = time.time()\n",
        "\n",
        "# Print the time taken\n",
        "time_taken = end_time - start_time\n",
        "print(f\"Time taken for element-wise addition of two lists of size {size}: {time_taken:.6f} seconds\")"
      ],
      "metadata": {
        "id": "XBuuFCL19H0G",
        "colab": {
          "base_uri": "https://localhost:8080/"
        },
        "outputId": "37897744-d77b-42c2-94ba-3f70098637ae"
      },
      "execution_count": 3,
      "outputs": [
        {
          "output_type": "stream",
          "name": "stdout",
          "text": [
            "Time taken for element-wise addition of two lists of size 1000000: 0.044140 seconds\n"
          ]
        }
      ]
    },
    {
      "cell_type": "code",
      "source": [
        "# Using Numpy Arrays, Repeat the calculation and measure and print the time taken for this operation.\n",
        "\n",
        "import numpy as np\n",
        "\n",
        "# Convert lists to NumPy arrays\n",
        "array1 = np.array(list1)\n",
        "array2 = np.array(list2)\n",
        "\n",
        "# Measure time for element-wise addition using NumPy\n",
        "start_time = time.time()\n",
        "result_np = array1 + array2\n",
        "end_time = time.time()\n",
        "\n",
        "# Print the time taken with a clear message\n",
        "time_taken_np = end_time - start_time\n",
        "print(f\"Time taken for element-wise addition using NumPy arrays of size {size}: {time_taken_np:.6f} seconds\")"
      ],
      "metadata": {
        "colab": {
          "base_uri": "https://localhost:8080/"
        },
        "id": "wnSUVpWEVbh5",
        "outputId": "4c75f400-7f11-4017-9681-1179eff498c9"
      },
      "execution_count": 4,
      "outputs": [
        {
          "output_type": "stream",
          "name": "stdout",
          "text": [
            "Time taken for element-wise addition using NumPy arrays of size 1000000: 0.005716 seconds\n"
          ]
        }
      ]
    },
    {
      "cell_type": "markdown",
      "source": [
        "2. Element-wise Multiplication\n",
        "\n",
        "• Using Python Lists, perform element-wise multiplication of two lists of size 1, 000, 000. Measure and Print the time taken for this operation.\n",
        "\n",
        "• Using Numpy Arrays, Repeat the calculation and measure and print the time taken for this operation."
      ],
      "metadata": {
        "id": "qVh_j0MJWaX5"
      }
    },
    {
      "cell_type": "code",
      "source": [
        "# Using Python Lists, perform element-wise multiplication of two lists of size 1, 000, 000. Measure and Print the time taken for this operation.\\\n",
        "\n",
        "import time\n",
        "import random\n",
        "\n",
        "# Generate two large lists of size 1,000,000 with random integers\n",
        "size = 1_000_000\n",
        "list1 = [random.randint(1, 100) for _ in range(size)]\n",
        "list2 = [random.randint(1, 100) for _ in range(size)]\n",
        "\n",
        "# Measure time for element-wise multiplication using list comprehension\n",
        "start_time = time.time()\n",
        "result_mul = [a * b for a, b in zip(list1, list2)]\n",
        "end_time = time.time()\n",
        "\n",
        "# Print the time taken with a clear message\n",
        "time_taken_mul = end_time - start_time\n",
        "print(f\"Time taken for element-wise multiplication of two lists of size {size}: {time_taken_mul:.6f} seconds\")"
      ],
      "metadata": {
        "colab": {
          "base_uri": "https://localhost:8080/"
        },
        "id": "whJUnGCIWWUM",
        "outputId": "1348c77d-b5ef-4158-9dd6-ef8c55dd15b0"
      },
      "execution_count": 5,
      "outputs": [
        {
          "output_type": "stream",
          "name": "stdout",
          "text": [
            "Time taken for element-wise multiplication of two lists of size 1000000: 0.062071 seconds\n"
          ]
        }
      ]
    },
    {
      "cell_type": "code",
      "source": [
        "# Using Numpy Arrays, Repeat the calculation and measure and print the time taken for this operation.\n",
        "\n",
        "import numpy as np\n",
        "\n",
        "# Convert lists to NumPy arrays\n",
        "array1 = np.array(list1)\n",
        "array2 = np.array(list2)\n",
        "\n",
        "# Measure time for element-wise multiplication using NumPy\n",
        "start_time = time.time()\n",
        "result_np_mul = array1 * array2\n",
        "end_time = time.time()\n",
        "\n",
        "# Print the time taken with a clear message\n",
        "time_taken_np_mul = end_time - start_time\n",
        "print(f\"Time taken for element-wise multiplication using NumPy arrays of size {size}: {time_taken_np_mul:.6f} seconds\")"
      ],
      "metadata": {
        "colab": {
          "base_uri": "https://localhost:8080/"
        },
        "id": "I6ITeelLWxFr",
        "outputId": "6eaf3d6f-21d0-401a-9dd2-3e2793f6d99d"
      },
      "execution_count": 6,
      "outputs": [
        {
          "output_type": "stream",
          "name": "stdout",
          "text": [
            "Time taken for element-wise multiplication using NumPy arrays of size 1000000: 0.006431 seconds\n"
          ]
        }
      ]
    },
    {
      "cell_type": "markdown",
      "source": [
        "3.Dot Product\n",
        "\n",
        "• Using Python Lists, compute the dot product of two lists of size 1, 000, 000. Measure and Print the time taken for this operation.\n",
        "\n",
        "• Using Numpy Arrays, Repeat the calculation and measure and print the time taken for this operation."
      ],
      "metadata": {
        "id": "ncsRuSynXOCL"
      }
    },
    {
      "cell_type": "code",
      "source": [
        "# Using Python Lists, compute the dot product of two lists of size 1, 000, 000. Measure and Print the time taken for this operation.\n",
        "\n",
        "import time\n",
        "import random\n",
        "\n",
        "# Generate two large lists of size 1,000,000 with random integers\n",
        "size = 1_000_000\n",
        "list1 = [random.randint(1, 100) for _ in range(size)]\n",
        "list2 = [random.randint(1, 100) for _ in range(size)]\n",
        "\n",
        "# Measure time for computing dot product using Python lists\n",
        "start_time = time.time()\n",
        "dot_product = sum(a * b for a, b in zip(list1, list2))\n",
        "end_time = time.time()\n",
        "\n",
        "# Print the time taken with a clear message\n",
        "time_taken_dot = end_time - start_time\n",
        "print(f\"Time taken for computing dot product using Python lists of size {size}: {time_taken_dot:.6f} seconds\")"
      ],
      "metadata": {
        "colab": {
          "base_uri": "https://localhost:8080/"
        },
        "id": "rRLcBlZDXIqg",
        "outputId": "8cca1dcc-54cb-445f-92a0-454f49d46f51"
      },
      "execution_count": 7,
      "outputs": [
        {
          "output_type": "stream",
          "name": "stdout",
          "text": [
            "Time taken for computing dot product using Python lists of size 1000000: 0.133166 seconds\n"
          ]
        }
      ]
    },
    {
      "cell_type": "code",
      "source": [
        "#  Using Numpy Arrays, Repeat the calculation and measure and print the time taken for this operation.\n",
        "\n",
        "import numpy as np\n",
        "import time\n",
        "\n",
        "# Generate random NumPy arrays of size 1,000,000\n",
        "size = 1_000_000\n",
        "array1 = np.random.randint(1, 100, size)\n",
        "array2 = np.random.randint(1, 100, size)\n",
        "\n",
        "# Measure time for computing dot product using NumPy\n",
        "start_time = time.time()\n",
        "dot_product_np = np.dot(array1, array2)\n",
        "end_time = time.time()\n",
        "\n",
        "# Print the time taken with a clear message\n",
        "time_taken_np_dot = end_time - start_time\n",
        "print(f\"Time taken for computing dot product using NumPy arrays of size {size}: {time_taken_np_dot:.6f} seconds\")"
      ],
      "metadata": {
        "colab": {
          "base_uri": "https://localhost:8080/"
        },
        "id": "pz1xGn3oXmKr",
        "outputId": "63db6e46-85cf-46da-f8ff-238527afe241"
      },
      "execution_count": 8,
      "outputs": [
        {
          "output_type": "stream",
          "name": "stdout",
          "text": [
            "Time taken for computing dot product using NumPy arrays of size 1000000: 0.002278 seconds\n"
          ]
        }
      ]
    },
    {
      "cell_type": "markdown",
      "source": [
        "4. Matrix Multiplication\n",
        "\n",
        "• Using Python lists, perform matrix multiplication of two matrices of size 1000x1000. Measure and print the time taken for this operation.\n",
        "\n",
        "• Using NumPy arrays, perform matrix multiplication of two matrices of size 1000x1000. Measure and print the time taken for this operation."
      ],
      "metadata": {
        "id": "K4GtKq0mXyrK"
      }
    },
    {
      "cell_type": "code",
      "source": [
        "# Using Python lists, perform matrix multiplication of two matrices of size 1000x1000. Measure and print the time taken for this operation.\n",
        "\n",
        "import time\n",
        "import random\n",
        "\n",
        "# Generate two random 1000x1000 matrices\n",
        "size = 1000\n",
        "matrix1 = [[random.randint(1, 100) for _ in range(size)] for _ in range(size)]\n",
        "matrix2 = [[random.randint(1, 100) for _ in range(size)] for _ in range(size)]\n",
        "\n",
        "# Initialize the result matrix with zeros\n",
        "result_matrix = [[0 for _ in range(size)] for _ in range(size)]\n",
        "\n",
        "# Measure time for matrix multiplication using Python lists\n",
        "start_time = time.time()\n",
        "\n",
        "# Perform matrix multiplication\n",
        "for i in range(size):\n",
        "    for j in range(size):\n",
        "        result_matrix[i][j] = sum(matrix1[i][k] * matrix2[k][j] for k in range(size))\n",
        "\n",
        "end_time = time.time()\n",
        "\n",
        "# Print the time taken with a clear message\n",
        "time_taken_matrix_mul = end_time - start_time\n",
        "print(f\"Time taken for matrix multiplication of two {size}x{size} matrices using Python lists: {time_taken_matrix_mul:.6f} seconds\")"
      ],
      "metadata": {
        "colab": {
          "base_uri": "https://localhost:8080/"
        },
        "id": "S6iGazIQXvWU",
        "outputId": "b0c5311a-9990-4cdc-f31e-8ee6e374b097"
      },
      "execution_count": 12,
      "outputs": [
        {
          "output_type": "stream",
          "name": "stdout",
          "text": [
            "Time taken for matrix multiplication of two 1000x1000 matrices using Python lists: 125.495339 seconds\n"
          ]
        }
      ]
    },
    {
      "cell_type": "code",
      "source": [
        "# Using NumPy arrays, perform matrix multiplication of two matrices of size 1000x1000. Measure and print the time taken for this operation.\n",
        "\n",
        "import numpy as np\n",
        "import time\n",
        "\n",
        "# Generate two random 1000x1000 matrices\n",
        "size = 1000\n",
        "matrix1 = np.random.randint(1, 100, (size, size))\n",
        "matrix2 = np.random.randint(1, 100, (size, size))\n",
        "\n",
        "# Measure time for matrix multiplication using NumPy\n",
        "start_time = time.time()\n",
        "result_matrix_np = np.dot(matrix1, matrix2)\n",
        "end_time = time.time()\n",
        "\n",
        "# Print the time taken with a clear message\n",
        "time_taken_matrix_mul_np = end_time - start_time\n",
        "print(f\"Time taken for matrix multiplication of two {size}x{size} matrices using NumPy arrays: {time_taken_matrix_mul_np:.6f} seconds\")"
      ],
      "metadata": {
        "colab": {
          "base_uri": "https://localhost:8080/"
        },
        "id": "2zT3HKzyX_vd",
        "outputId": "d20ae9c2-da70-4d8c-800a-e1ce9f21f881"
      },
      "execution_count": 13,
      "outputs": [
        {
          "output_type": "stream",
          "name": "stdout",
          "text": [
            "Time taken for matrix multiplication of two 1000x1000 matrices using NumPy arrays: 4.735391 seconds\n"
          ]
        }
      ]
    }
  ]
}